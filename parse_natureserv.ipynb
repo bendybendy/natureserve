{
 "cells": [
  {
   "cell_type": "code",
   "execution_count": 1,
   "metadata": {},
   "outputs": [],
   "source": [
    "import csv \n",
    "import urllib.parse \n",
    "import requests\n",
    "import xml.etree.ElementTree as ET\n",
    "import untangle \n",
    "import io\n"
   ]
  },
  {
   "cell_type": "code",
   "execution_count": 2,
   "metadata": {},
   "outputs": [],
   "source": [
    "def lookup_natureserv(taxa):\n",
    "    print(taxa)\n",
    "    # natureserve query\n",
    "    nsq = \"https://services.natureserve.org/idd/rest/ns/v1/globalSpecies/images?scientificName=\" + taxa.replace(\" \", \"%20\") +  \"&resolution=thumbnail\";\n",
    "    ## urllib doesnt really work in this stuation, because it double-escapes the blank space \n",
    "    #nsq = \"https://services.natureserve.org/idd/rest/ns/v1/globalSpecies/images?\"\n",
    "    #params = {'scientificName': taxa.replace(\" \",\"%20\"), 'resolution': 'thumbnail'}\n",
    "    #print(nsq + urllib.parse.urlencode(params) )\n",
    "    print(nsq)\n",
    "    r = requests.get(nsq)\n",
    "    #print(r.text)\n",
    "    #return r.content\n",
    "\n",
    "    #string-a-fy that for untangle\n",
    "    return io.BytesIO(r.content)\n"
   ]
  },
  {
   "cell_type": "code",
   "execution_count": 3,
   "metadata": {},
   "outputs": [
    {
     "name": "stdout",
     "output_type": "stream",
     "text": [
      "Glaucomys volans\n",
      "https://services.natureserve.org/idd/rest/ns/v1/globalSpecies/images?scientificName=Glaucomys%20volans&resolution=thumbnail\n"
     ]
    }
   ],
   "source": [
    "ns_xml = lookup_natureserv('Glaucomys volans')\n"
   ]
  },
  {
   "cell_type": "code",
   "execution_count": 4,
   "metadata": {},
   "outputs": [
    {
     "data": {
      "text/plain": [
       "<_io.BytesIO at 0x10f5b9990>"
      ]
     },
     "execution_count": 4,
     "metadata": {},
     "output_type": "execute_result"
    }
   ],
   "source": [
    "ns_xml"
   ]
  },
  {
   "cell_type": "code",
   "execution_count": 5,
   "metadata": {},
   "outputs": [],
   "source": [
    "obj = untangle.parse(ns_xml)"
   ]
  },
  {
   "cell_type": "code",
   "execution_count": 6,
   "metadata": {},
   "outputs": [
    {
     "name": "stdout",
     "output_type": "stream",
     "text": [
      "Southern Flying Squirrel (Glaucomys volans)\n"
     ]
    }
   ],
   "source": [
    "print(obj.images.image.dc_title.cdata)"
   ]
  },
  {
   "cell_type": "code",
   "execution_count": 8,
   "metadata": {},
   "outputs": [
    {
     "name": "stdout",
     "output_type": "stream",
     "text": [
      "<_io.BytesIO object at 0x11020c5c8>\n"
     ]
    }
   ],
   "source": [
    "print(ns_xml)"
   ]
  },
  {
   "cell_type": "code",
   "execution_count": 9,
   "metadata": {},
   "outputs": [
    {
     "data": {
      "text/plain": [
       "<function BytesIO.readlines>"
      ]
     },
     "execution_count": 9,
     "metadata": {},
     "output_type": "execute_result"
    }
   ],
   "source": [
    "ns_xml.readlines"
   ]
  },
  {
   "cell_type": "code",
   "execution_count": 10,
   "metadata": {},
   "outputs": [],
   "source": [
    "import pprint "
   ]
  },
  {
   "cell_type": "markdown",
   "metadata": {},
   "source": [
    "use pprint and vars to inspect the object created by untangle"
   ]
  },
  {
   "cell_type": "code",
   "execution_count": 27,
   "metadata": {},
   "outputs": [],
   "source": [
    "from pprint import pprint "
   ]
  },
  {
   "cell_type": "code",
   "execution_count": 28,
   "metadata": {},
   "outputs": [
    {
     "name": "stdout",
     "output_type": "stream",
     "text": [
      "{'_attributes': None,\n",
      " '_name': None,\n",
      " 'cdata': '',\n",
      " 'children': [Element(name = images, attributes = {'xmlns': 'http://services.natureserve.org/docs/schemas/biodiversityDataFlow/1', 'xmlns:dc': 'http://purl.org/dc/terms/', 'xmlns:xsi': 'http://www.w3.org/2001/XMLSchema-instance', 'xsi:schemaLocation': 'http://services.natureserve.org/docs/schemas/biodiversityDataFlow/1 http://services.natureserve.org/docs/schemas/biodiversityDataFlow/1/ http://purl.org/dc/terms/ http://dublincore.org/schemas/xmls/qdc/2008/02/11/dcterms.xsd'}, cdata = \n",
      "    \t\n",
      "\t\t\n",
      "\n",
      "\t\n",
      "  )],\n",
      " 'images': Element(name = images, attributes = {'xmlns': 'http://services.natureserve.org/docs/schemas/biodiversityDataFlow/1', 'xmlns:dc': 'http://purl.org/dc/terms/', 'xmlns:xsi': 'http://www.w3.org/2001/XMLSchema-instance', 'xsi:schemaLocation': 'http://services.natureserve.org/docs/schemas/biodiversityDataFlow/1 http://services.natureserve.org/docs/schemas/biodiversityDataFlow/1/ http://purl.org/dc/terms/ http://dublincore.org/schemas/xmls/qdc/2008/02/11/dcterms.xsd'}, cdata = \n",
      "    \t\n",
      "\t\t\n",
      "\n",
      "\t\n",
      "  ),\n",
      " 'is_root': True}\n"
     ]
    }
   ],
   "source": [
    "pprint(vars(obj))"
   ]
  },
  {
   "cell_type": "code",
   "execution_count": 29,
   "metadata": {},
   "outputs": [
    {
     "data": {
      "text/plain": [
       "'http://explorer.natureserve.org/imagerepository/GetImage?SRC=2&BATCH=10&FMT=jpg&RES=192X128&NAME=sfsquirrel1'"
      ]
     },
     "execution_count": 29,
     "metadata": {},
     "output_type": "execute_result"
    }
   ],
   "source": [
    "obj.images.image.dc_identifier.cdata"
   ]
  },
  {
   "cell_type": "code",
   "execution_count": 30,
   "metadata": {},
   "outputs": [
    {
     "data": {
      "text/plain": [
       "{'_attributes': None,\n",
       " '_name': None,\n",
       " 'cdata': '',\n",
       " 'children': [Element(name = images, attributes = {'xmlns': 'http://services.natureserve.org/docs/schemas/biodiversityDataFlow/1', 'xmlns:dc': 'http://purl.org/dc/terms/', 'xmlns:xsi': 'http://www.w3.org/2001/XMLSchema-instance', 'xsi:schemaLocation': 'http://services.natureserve.org/docs/schemas/biodiversityDataFlow/1 http://services.natureserve.org/docs/schemas/biodiversityDataFlow/1/ http://purl.org/dc/terms/ http://dublincore.org/schemas/xmls/qdc/2008/02/11/dcterms.xsd'}, cdata = \n",
       "      \t\n",
       "  \t\t\n",
       "  \n",
       "  \t\n",
       "    )],\n",
       " 'images': Element(name = images, attributes = {'xmlns': 'http://services.natureserve.org/docs/schemas/biodiversityDataFlow/1', 'xmlns:dc': 'http://purl.org/dc/terms/', 'xmlns:xsi': 'http://www.w3.org/2001/XMLSchema-instance', 'xsi:schemaLocation': 'http://services.natureserve.org/docs/schemas/biodiversityDataFlow/1 http://services.natureserve.org/docs/schemas/biodiversityDataFlow/1/ http://purl.org/dc/terms/ http://dublincore.org/schemas/xmls/qdc/2008/02/11/dcterms.xsd'}, cdata = \n",
       "     \t\n",
       " \t\t\n",
       " \n",
       " \t\n",
       "   ),\n",
       " 'is_root': True}"
      ]
     },
     "execution_count": 30,
     "metadata": {},
     "output_type": "execute_result"
    }
   ],
   "source": [
    "obj.__dict__"
   ]
  },
  {
   "cell_type": "code",
   "execution_count": 31,
   "metadata": {},
   "outputs": [
    {
     "data": {
      "text/plain": [
       "{'_attributes': None,\n",
       " '_name': None,\n",
       " 'cdata': '',\n",
       " 'children': [Element(name = images, attributes = {'xmlns': 'http://services.natureserve.org/docs/schemas/biodiversityDataFlow/1', 'xmlns:dc': 'http://purl.org/dc/terms/', 'xmlns:xsi': 'http://www.w3.org/2001/XMLSchema-instance', 'xsi:schemaLocation': 'http://services.natureserve.org/docs/schemas/biodiversityDataFlow/1 http://services.natureserve.org/docs/schemas/biodiversityDataFlow/1/ http://purl.org/dc/terms/ http://dublincore.org/schemas/xmls/qdc/2008/02/11/dcterms.xsd'}, cdata = \n",
       "      \t\n",
       "  \t\t\n",
       "  \n",
       "  \t\n",
       "    )],\n",
       " 'images': Element(name = images, attributes = {'xmlns': 'http://services.natureserve.org/docs/schemas/biodiversityDataFlow/1', 'xmlns:dc': 'http://purl.org/dc/terms/', 'xmlns:xsi': 'http://www.w3.org/2001/XMLSchema-instance', 'xsi:schemaLocation': 'http://services.natureserve.org/docs/schemas/biodiversityDataFlow/1 http://services.natureserve.org/docs/schemas/biodiversityDataFlow/1/ http://purl.org/dc/terms/ http://dublincore.org/schemas/xmls/qdc/2008/02/11/dcterms.xsd'}, cdata = \n",
       "     \t\n",
       " \t\t\n",
       " \n",
       " \t\n",
       "   ),\n",
       " 'is_root': True}"
      ]
     },
     "execution_count": 31,
     "metadata": {},
     "output_type": "execute_result"
    }
   ],
   "source": [
    "vars(obj)"
   ]
  },
  {
   "cell_type": "markdown",
   "metadata": {},
   "source": [
    "## get the keys from the image namespace"
   ]
  },
  {
   "cell_type": "code",
   "execution_count": 43,
   "metadata": {},
   "outputs": [
    {
     "data": {
      "text/plain": [
       "['commonName',\n",
       " 'dc_coverage',\n",
       " 'dc_creator',\n",
       " 'dc_description',\n",
       " 'dc_format',\n",
       " 'dc_format',\n",
       " 'dc_identifier',\n",
       " 'dc_isVersionOf',\n",
       " 'dc_publisher',\n",
       " 'dc_rights',\n",
       " 'dc_rightsHolder',\n",
       " 'dc_rightsHolder',\n",
       " 'dc_subject',\n",
       " 'dc_title',\n",
       " 'dc_type',\n",
       " 'globalSpeciesUID',\n",
       " 'id',\n",
       " 'imagePermission',\n",
       " 'natureServeExplorerURI',\n",
       " 'otherCommonName',\n",
       " 'otherCommonName',\n",
       " 'otherCommonName',\n",
       " 'scientificName']"
      ]
     },
     "execution_count": 43,
     "metadata": {},
     "output_type": "execute_result"
    }
   ],
   "source": [
    "dir(obj.images.image)"
   ]
  },
  {
   "cell_type": "code",
   "execution_count": 53,
   "metadata": {},
   "outputs": [
    {
     "name": "stdout",
     "output_type": "stream",
     "text": [
      "commonName\n",
      "dc_coverage\n",
      "dc_creator\n",
      "dc_description\n",
      "dc_format\n",
      "dc_format\n",
      "dc_identifier\n",
      "dc_isVersionOf\n",
      "dc_publisher\n",
      "dc_rights\n",
      "dc_rightsHolder\n",
      "dc_rightsHolder\n",
      "dc_subject\n",
      "dc_title\n",
      "dc_type\n",
      "globalSpeciesUID\n",
      "id\n",
      "imagePermission\n",
      "natureServeExplorerURI\n",
      "otherCommonName\n",
      "otherCommonName\n",
      "otherCommonName\n",
      "scientificName\n"
     ]
    }
   ],
   "source": [
    "for attr in dir(obj.images.image):\n",
    "    #print(\"obj.%s = %r\" % (attr, getattr(obj.images.image, attr)))\n",
    "    print(attr)"
   ]
  },
  {
   "cell_type": "code",
   "execution_count": 105,
   "metadata": {},
   "outputs": [
    {
     "data": {
      "text/plain": [
       "'Southern Flying Squirrel (Glaucomys volans)'"
      ]
     },
     "execution_count": 105,
     "metadata": {},
     "output_type": "execute_result"
    }
   ],
   "source": [
    "obj.images.image.dc_title.cdata"
   ]
  },
  {
   "cell_type": "code",
   "execution_count": 106,
   "metadata": {},
   "outputs": [],
   "source": [
    "a = 'dc_title'"
   ]
  },
  {
   "cell_type": "code",
   "execution_count": 59,
   "metadata": {},
   "outputs": [
    {
     "data": {
      "text/plain": [
       "'obj.dc_title'"
      ]
     },
     "execution_count": 59,
     "metadata": {},
     "output_type": "execute_result"
    }
   ],
   "source": [
    "\"obj.%s\" % a"
   ]
  },
  {
   "cell_type": "code",
   "execution_count": 119,
   "metadata": {},
   "outputs": [
    {
     "data": {
      "text/plain": [
       "'Southern Flying Squirrel (Glaucomys volans)'"
      ]
     },
     "execution_count": 119,
     "metadata": {},
     "output_type": "execute_result"
    }
   ],
   "source": [
    "getattr(obj.images.image, a).cdata"
   ]
  },
  {
   "cell_type": "code",
   "execution_count": 121,
   "metadata": {},
   "outputs": [
    {
     "data": {
      "text/plain": [
       "str"
      ]
     },
     "execution_count": 121,
     "metadata": {},
     "output_type": "execute_result"
    }
   ],
   "source": [
    "type(getattr(obj.images.image, a).cdata)"
   ]
  },
  {
   "cell_type": "code",
   "execution_count": 122,
   "metadata": {},
   "outputs": [
    {
     "name": "stdout",
     "output_type": "stream",
     "text": [
      "do it!\n"
     ]
    }
   ],
   "source": [
    "if type(getattr(obj.images.image, a).cdata) is str:\n",
    "    print(\"do it!\")\n",
    "else: \n",
    "        print(\"dont\")"
   ]
  },
  {
   "cell_type": "code",
   "execution_count": 129,
   "metadata": {},
   "outputs": [
    {
     "name": "stdout",
     "output_type": "stream",
     "text": [
      "commonName = 'Southern Flying Squirrel'\n",
      "dc_coverage = 'Huron Mountains, MI, USA'\n",
      "dc_creator = 'Larry Master'\n",
      "dc_description = '\\n\\t\\t\\t\\t\\t\\t\\t\\tSouthern Flying Squirrel\\n\\t\\t\\t\\t\\t\\t\\t'\n",
      "dc_format = \"not a string:<class 'list'>\"\n",
      "dc_format = \"not a string:<class 'list'>\"\n",
      "dc_identifier = 'http://explorer.natureserve.org/imagerepository/GetImage?SRC=2&BATCH=10&FMT=jpg&RES=192X128&NAME=sfsquirrel1'\n",
      "dc_isVersionOf = 'http://explorer.natureserve.org/imagerepository/GetImage?SRC=2&BATCH=10&FMT=jpg&RES=768X512&NAME=sfsquirrel1'\n",
      "dc_publisher = 'NatureServe'\n",
      "dc_rights = 'This photo may be downloaded at moderate resolution (not to exceed 768 x 512 pixels) but only for non-commercial, educational purposes.  All such uses must include the copyright line and the photographer credit listed with the image.  This permission does not include publishing the image or posting it to another web site.  To request permission for these or other uses, see permission information.'\n",
      "dc_rightsHolder = \"not a string:<class 'list'>\"\n",
      "dc_rightsHolder = \"not a string:<class 'list'>\"\n",
      "dc_subject = 'Mammals'\n",
      "dc_title = 'Southern Flying Squirrel (Glaucomys volans)'\n",
      "dc_type = 'Image'\n",
      "globalSpeciesUID = 'ELEMENT_GLOBAL.2.102958'\n",
      "id = '8394'\n",
      "imagePermission = '\\n\\t\\t\\t\\t\\t\\t\\t\\n\\t\\t\\t\\t\\t\\t\\t\\n\\t\\t\\t\\t\\t\\t\\t\\n\\t\\t\\t\\t\\t\\t\\t\\t\\t\\n\\t\\t\\t\\t\\t\\t\\t\\n\\t\\t\\t\\t\\t\\t\\t\\n\\t\\t\\t\\t\\t\\t\\t\\n\\t\\t\\t\\t\\t\\t\\t\\n\\t\\t\\t\\t\\t\\t\\t\\n\\t\\t\\t\\t'\n",
      "natureServeExplorerURI = 'http://explorer.natureserve.org/servlet/NatureServe?searchName=Glaucomys+volans'\n",
      "otherCommonName = \"not a string:<class 'list'>\"\n",
      "otherCommonName = \"not a string:<class 'list'>\"\n",
      "otherCommonName = \"not a string:<class 'list'>\"\n",
      "scientificName = 'Glaucomys volans'\n"
     ]
    }
   ],
   "source": [
    "for attr in dir(obj.images.image):\n",
    "    \n",
    "    if hasattr(getattr(obj.images.image, attr), \"cdata\"):\n",
    "        print(\"%s = %r\" % (attr, getattr(obj.images.image, attr).cdata))\n",
    "    else:\n",
    "        print(\"%s = %r\" % (attr, \"not a string:%s\" % type(getattr(obj.images.image, attr))))\n"
   ]
  },
  {
   "cell_type": "code",
   "execution_count": 132,
   "metadata": {},
   "outputs": [
    {
     "name": "stdout",
     "output_type": "stream",
     "text": [
      "commonName = 'Southern Flying Squirrel'\n",
      "dc_coverage = 'Huron Mountains, MI, USA'\n",
      "dc_creator = 'Larry Master'\n",
      "dc_description = '\\n\\t\\t\\t\\t\\t\\t\\t\\tSouthern Flying Squirrel\\n\\t\\t\\t\\t\\t\\t\\t'\n",
      "dc_format = [Element(name = dc_format, attributes = {}, cdata = image/jpeg), Element(name = dc_format, attributes = {}, cdata = 192X128)]\n",
      "dc_format = [Element(name = dc_format, attributes = {}, cdata = image/jpeg), Element(name = dc_format, attributes = {}, cdata = 192X128)]\n",
      "dc_identifier = 'http://explorer.natureserve.org/imagerepository/GetImage?SRC=2&BATCH=10&FMT=jpg&RES=192X128&NAME=sfsquirrel1'\n",
      "dc_isVersionOf = 'http://explorer.natureserve.org/imagerepository/GetImage?SRC=2&BATCH=10&FMT=jpg&RES=768X512&NAME=sfsquirrel1'\n",
      "dc_publisher = 'NatureServe'\n",
      "dc_rights = 'This photo may be downloaded at moderate resolution (not to exceed 768 x 512 pixels) but only for non-commercial, educational purposes.  All such uses must include the copyright line and the photographer credit listed with the image.  This permission does not include publishing the image or posting it to another web site.  To request permission for these or other uses, see permission information.'\n",
      "dc_rightsHolder = [Element(name = dc_rightsHolder, attributes = {}, cdata = Larry Master), Element(name = dc_rightsHolder, attributes = {}, cdata = Copyright held by Creator)]\n",
      "dc_rightsHolder = [Element(name = dc_rightsHolder, attributes = {}, cdata = Larry Master), Element(name = dc_rightsHolder, attributes = {}, cdata = Copyright held by Creator)]\n",
      "dc_subject = 'Mammals'\n",
      "dc_title = 'Southern Flying Squirrel (Glaucomys volans)'\n",
      "dc_type = 'Image'\n",
      "globalSpeciesUID = 'ELEMENT_GLOBAL.2.102958'\n",
      "id = '8394'\n",
      "imagePermission = '\\n\\t\\t\\t\\t\\t\\t\\t\\n\\t\\t\\t\\t\\t\\t\\t\\n\\t\\t\\t\\t\\t\\t\\t\\n\\t\\t\\t\\t\\t\\t\\t\\t\\t\\n\\t\\t\\t\\t\\t\\t\\t\\n\\t\\t\\t\\t\\t\\t\\t\\n\\t\\t\\t\\t\\t\\t\\t\\n\\t\\t\\t\\t\\t\\t\\t\\n\\t\\t\\t\\t\\t\\t\\t\\n\\t\\t\\t\\t'\n",
      "natureServeExplorerURI = 'http://explorer.natureserve.org/servlet/NatureServe?searchName=Glaucomys+volans'\n",
      "otherCommonName = [Element(name = otherCommonName, attributes = {'lang': 'ES'}, cdata = Ardilla Voladora), Element(name = otherCommonName, attributes = {'lang': 'FR'}, cdata = petit polatouche), Element(name = otherCommonName, attributes = {}, cdata = southern flying squirrel)]\n",
      "otherCommonName = [Element(name = otherCommonName, attributes = {'lang': 'ES'}, cdata = Ardilla Voladora), Element(name = otherCommonName, attributes = {'lang': 'FR'}, cdata = petit polatouche), Element(name = otherCommonName, attributes = {}, cdata = southern flying squirrel)]\n",
      "otherCommonName = [Element(name = otherCommonName, attributes = {'lang': 'ES'}, cdata = Ardilla Voladora), Element(name = otherCommonName, attributes = {'lang': 'FR'}, cdata = petit polatouche), Element(name = otherCommonName, attributes = {}, cdata = southern flying squirrel)]\n",
      "scientificName = 'Glaucomys volans'\n"
     ]
    }
   ],
   "source": [
    "for attr in dir(obj.images.image):\n",
    "    \n",
    "    if hasattr(getattr(obj.images.image, attr), \"cdata\"):\n",
    "        print(\"%s = %r\" % (attr, getattr(obj.images.image, attr).cdata))\n",
    "    else:\n",
    "        print(\"%s = %r\" % (attr, getattr(obj.images.image, attr)) )"
   ]
  },
  {
   "cell_type": "markdown",
   "metadata": {},
   "source": [
    "### since those other attributes are lists, lets just get the first entry in the list "
   ]
  },
  {
   "cell_type": "code",
   "execution_count": 136,
   "metadata": {},
   "outputs": [
    {
     "name": "stdout",
     "output_type": "stream",
     "text": [
      "commonName = 'Southern Flying Squirrel'\n",
      "dc_coverage = 'Huron Mountains, MI, USA'\n",
      "dc_creator = 'Larry Master'\n",
      "dc_description = '\\n\\t\\t\\t\\t\\t\\t\\t\\tSouthern Flying Squirrel\\n\\t\\t\\t\\t\\t\\t\\t'\n",
      "dc_format = 'image/jpeg'\n",
      "dc_format = 'image/jpeg'\n",
      "dc_identifier = 'http://explorer.natureserve.org/imagerepository/GetImage?SRC=2&BATCH=10&FMT=jpg&RES=192X128&NAME=sfsquirrel1'\n",
      "dc_isVersionOf = 'http://explorer.natureserve.org/imagerepository/GetImage?SRC=2&BATCH=10&FMT=jpg&RES=768X512&NAME=sfsquirrel1'\n",
      "dc_publisher = 'NatureServe'\n",
      "dc_rights = 'This photo may be downloaded at moderate resolution (not to exceed 768 x 512 pixels) but only for non-commercial, educational purposes.  All such uses must include the copyright line and the photographer credit listed with the image.  This permission does not include publishing the image or posting it to another web site.  To request permission for these or other uses, see permission information.'\n",
      "dc_rightsHolder = 'Larry Master'\n",
      "dc_rightsHolder = 'Larry Master'\n",
      "dc_subject = 'Mammals'\n",
      "dc_title = 'Southern Flying Squirrel (Glaucomys volans)'\n",
      "dc_type = 'Image'\n",
      "globalSpeciesUID = 'ELEMENT_GLOBAL.2.102958'\n",
      "id = '8394'\n",
      "imagePermission = '\\n\\t\\t\\t\\t\\t\\t\\t\\n\\t\\t\\t\\t\\t\\t\\t\\n\\t\\t\\t\\t\\t\\t\\t\\n\\t\\t\\t\\t\\t\\t\\t\\t\\t\\n\\t\\t\\t\\t\\t\\t\\t\\n\\t\\t\\t\\t\\t\\t\\t\\n\\t\\t\\t\\t\\t\\t\\t\\n\\t\\t\\t\\t\\t\\t\\t\\n\\t\\t\\t\\t\\t\\t\\t\\n\\t\\t\\t\\t'\n",
      "natureServeExplorerURI = 'http://explorer.natureserve.org/servlet/NatureServe?searchName=Glaucomys+volans'\n",
      "otherCommonName = 'Ardilla Voladora'\n",
      "otherCommonName = 'Ardilla Voladora'\n",
      "otherCommonName = 'Ardilla Voladora'\n",
      "scientificName = 'Glaucomys volans'\n"
     ]
    }
   ],
   "source": [
    "for attr in dir(obj.images.image):\n",
    "    \n",
    "    if hasattr(getattr(obj.images.image, attr), \"cdata\"):\n",
    "        print(\"%s = %r\" % (attr, getattr(obj.images.image, attr).cdata))\n",
    "    else:\n",
    "        #the nested attributes are in lists, so just get the first item in the list\n",
    "        print(\"%s = %r\" % (attr, getattr(obj.images.image, attr)[0].cdata) )"
   ]
  },
  {
   "cell_type": "code",
   "execution_count": 68,
   "metadata": {},
   "outputs": [
    {
     "data": {
      "text/plain": [
       "Element(name = scientificName, attributes = {}, cdata = Glaucomys volans)"
      ]
     },
     "execution_count": 68,
     "metadata": {},
     "output_type": "execute_result"
    }
   ],
   "source": [
    "dat = getattr(obj.images.image, attr)\n",
    "getattr(obj.images.image, attr)"
   ]
  },
  {
   "cell_type": "code",
   "execution_count": 1,
   "metadata": {},
   "outputs": [],
   "source": [
    "def parse_natureserve(nsobj):\n",
    "    for attr in dir(nsobj):\n",
    "        if hasattr(getattr(nsobj, attr), \"cdata\"):\n",
    "            print(\"%s = %r\" % (attr, getattr(nsobj, attr).cdata))\n",
    "        else:   \n",
    "            #the nested attributes are in lists, so just get the first item in the list        \n",
    "            print(\"%s = %r\" % (attr, getattr(nsobj, attr)[0].cdata) )"
   ]
  },
  {
   "cell_type": "code",
   "execution_count": 4,
   "metadata": {},
   "outputs": [],
   "source": [
    "species_csv = open('./pbgjam_layers.csv', 'r', encoding='utf-8-sig')\n",
    "reader = csv.DictReader(species_csv, delimiter=',')"
   ]
  },
  {
   "cell_type": "code",
   "execution_count": 5,
   "metadata": {},
   "outputs": [
    {
     "name": "stdout",
     "output_type": "stream",
     "text": [
      "get rowsum\n",
      "get Blarina brevicauda\n",
      "get Blarina carolinensis\n",
      "get Chaetodipus hispidus\n",
      "get Chaetodipus penicillatus\n",
      "get Dipodomys merriami\n",
      "get Dipodomys ordii\n",
      "get Glaucomys volans\n",
      "get Microtus ochrogaster\n",
      "get Microtus pennsylvanicus\n",
      "get Mus musculus\n",
      "get Myodes gapperi\n",
      "get Napaeozapus insignis\n",
      "get Neotoma albigula\n",
      "get Neotoma floridana\n",
      "get Neotoma micropus\n",
      "get Onychomys leucogaster\n",
      "get Perognathus flavus\n",
      "get Perognathus parvus\n",
      "get Peromyscus gossypinus\n",
      "get Peromyscus keeni\n",
      "get Peromyscus leucopus\n",
      "get Peromyscus maniculatus\n",
      "get Peromyscus truei\n",
      "get Reithrodontomys fulvescens\n",
      "get Reithrodontomys megalotis\n",
      "get Reithrodontomys montanus\n",
      "get Sigmodon hispidus\n",
      "get Sorex cinereus\n",
      "get Sorex trowbridgii\n",
      "get Spermophilus tridecemlineatus\n",
      "get Tamias minimus\n",
      "get Tamias striatus\n",
      "get Zapus hudsonius\n",
      "get Zapus princeps\n"
     ]
    }
   ],
   "source": [
    "for row in reader:\n",
    "    taxa = row['taxa']\n",
    "    print(\"get %s\" % taxa)"
   ]
  },
  {
   "cell_type": "code",
   "execution_count": 9,
   "metadata": {},
   "outputs": [
    {
     "name": "stdout",
     "output_type": "stream",
     "text": [
      "Blarina brevicauda\n",
      "https://services.natureserve.org/idd/rest/ns/v1/globalSpecies/images?scientificName=Blarina%20brevicauda&resolution=thumbnail\n"
     ]
    }
   ],
   "source": [
    "bb = lookup_natureserv('Blarina brevicauda')"
   ]
  },
  {
   "cell_type": "code",
   "execution_count": 11,
   "metadata": {},
   "outputs": [],
   "source": [
    "bb = untangle.parse(bb)"
   ]
  },
  {
   "cell_type": "code",
   "execution_count": 12,
   "metadata": {},
   "outputs": [
    {
     "data": {
      "text/plain": [
       "Element(name = None, attributes = None, cdata = )"
      ]
     },
     "execution_count": 12,
     "metadata": {},
     "output_type": "execute_result"
    }
   ],
   "source": [
    "bb"
   ]
  },
  {
   "cell_type": "code",
   "execution_count": 13,
   "metadata": {},
   "outputs": [
    {
     "data": {
      "text/plain": [
       "Element(name = images, attributes = {'xmlns': 'http://services.natureserve.org/docs/schemas/biodiversityDataFlow/1', 'xmlns:dc': 'http://purl.org/dc/terms/', 'xmlns:xsi': 'http://www.w3.org/2001/XMLSchema-instance', 'xsi:schemaLocation': 'http://services.natureserve.org/docs/schemas/biodiversityDataFlow/1 http://services.natureserve.org/docs/schemas/biodiversityDataFlow/1/ http://purl.org/dc/terms/ http://dublincore.org/schemas/xmls/qdc/2008/02/11/dcterms.xsd'}, cdata = \n",
       "  )"
      ]
     },
     "execution_count": 13,
     "metadata": {},
     "output_type": "execute_result"
    }
   ],
   "source": [
    "bb.images"
   ]
  },
  {
   "cell_type": "code",
   "execution_count": 17,
   "metadata": {},
   "outputs": [
    {
     "ename": "AttributeError",
     "evalue": "'images' has no attribute 'image'",
     "output_type": "error",
     "traceback": [
      "\u001b[0;31m---------------------------------------------------------------------------\u001b[0m",
      "\u001b[0;31mAttributeError\u001b[0m                            Traceback (most recent call last)",
      "\u001b[0;32m<ipython-input-17-5a3fa2d6a27b>\u001b[0m in \u001b[0;36m<module>\u001b[0;34m()\u001b[0m\n\u001b[0;32m----> 1\u001b[0;31m \u001b[0mbb\u001b[0m\u001b[0;34m.\u001b[0m\u001b[0mimages\u001b[0m\u001b[0;34m.\u001b[0m\u001b[0mimage\u001b[0m\u001b[0;34m\u001b[0m\u001b[0;34m\u001b[0m\u001b[0m\n\u001b[0m",
      "\u001b[0;32m/Users/bendy/anaconda3/lib/python3.6/site-packages/untangle.py\u001b[0m in \u001b[0;36m__getattr__\u001b[0;34m(self, key)\u001b[0m\n\u001b[1;32m     81\u001b[0m         \u001b[0;32melse\u001b[0m\u001b[0;34m:\u001b[0m\u001b[0;34m\u001b[0m\u001b[0;34m\u001b[0m\u001b[0m\n\u001b[1;32m     82\u001b[0m             raise AttributeError(\n\u001b[0;32m---> 83\u001b[0;31m                 \u001b[0;34m\"'%s' has no attribute '%s'\"\u001b[0m \u001b[0;34m%\u001b[0m \u001b[0;34m(\u001b[0m\u001b[0mself\u001b[0m\u001b[0;34m.\u001b[0m\u001b[0m_name\u001b[0m\u001b[0;34m,\u001b[0m \u001b[0mkey\u001b[0m\u001b[0;34m)\u001b[0m\u001b[0;34m\u001b[0m\u001b[0;34m\u001b[0m\u001b[0m\n\u001b[0m\u001b[1;32m     84\u001b[0m             )\n\u001b[1;32m     85\u001b[0m \u001b[0;34m\u001b[0m\u001b[0m\n",
      "\u001b[0;31mAttributeError\u001b[0m: 'images' has no attribute 'image'"
     ]
    }
   ],
   "source": [
    "bb.images.image"
   ]
  },
  {
   "cell_type": "code",
   "execution_count": 19,
   "metadata": {},
   "outputs": [
    {
     "name": "stdout",
     "output_type": "stream",
     "text": [
      "I has a images!\n"
     ]
    }
   ],
   "source": [
    "if hasattr(bb, 'images'):\n",
    "    print(\"I has a images!\")\n",
    "else:\n",
    "    print(\"I doesnt\")"
   ]
  },
  {
   "cell_type": "code",
   "execution_count": 20,
   "metadata": {},
   "outputs": [
    {
     "name": "stdout",
     "output_type": "stream",
     "text": [
      "I doesnt\n"
     ]
    }
   ],
   "source": [
    "if hasattr(bb.images, 'image'):\n",
    "    print(\"I has a images!\")\n",
    "else:\n",
    "    print(\"I doesnt\")"
   ]
  },
  {
   "cell_type": "markdown",
   "metadata": {},
   "source": [
    "## natureserve has attributes for species that aren't in the image service \n",
    "\n",
    "get API key\n",
    "\n",
    "look up speices id by http://services.natureserve.org/BrowseServices/getSpeciesData/getSpeciesListREST.jsp\n",
    "\n",
    "https://services.natureserve.org/idd/rest/ns/v1/globalSpecies/list/nameSearch?name=Ruby*&NSAccessKeyId=72ddf45a-c751-44c7-9bca-8db3b4513347\n",
    "\n",
    "a good call\n",
    "https://services.natureserve.org/idd/rest/ns/v1/globalSpecies/list/nameSearch?name=Blarina%20brevicauda&NSAccessKeyId=896948b1-49c1-49b5-9a33-51b50ec6cdac\n",
    "\n",
    "use id to lookup data, and image if it exists"
   ]
  },
  {
   "cell_type": "code",
   "execution_count": 147,
   "metadata": {},
   "outputs": [],
   "source": [
    "nskey = '896948b1-49c1-49b5-9a33-51b50ec6cdac'"
   ]
  },
  {
   "cell_type": "code",
   "execution_count": 53,
   "metadata": {},
   "outputs": [],
   "source": [
    "def ns_get_id(taxa):\n",
    "    print(taxa)\n",
    "    # natureserve query\n",
    "    idq = \"https://services.natureserve.org/idd/rest/ns/v1/globalSpecies/images?scientificName=\" + taxa.replace(\" \", \"%20\") +  \"&resolution=thumbnail\"\n",
    "    idq = \"https://services.natureserve.org/idd/rest/ns/v1/globalSpecies/list/nameSearch?name=\" + taxa.replace(\" \", \"%20\") + \"&NSAccessKeyId=\" + nskey\n",
    "    print(idq)\n",
    "    r = requests.get(idq)\n",
    "    print(r.text)\n",
    "    #return r.content\n",
    "\n",
    "    #string-a-fy that for untangle\n",
    "    #return io.BytesIO(r.content)\n",
    "    #this one isn't byte content\n",
    "    return r.text"
   ]
  },
  {
   "cell_type": "code",
   "execution_count": 54,
   "metadata": {},
   "outputs": [
    {
     "name": "stdout",
     "output_type": "stream",
     "text": [
      "Blarina brevicauda\n",
      "https://services.natureserve.org/idd/rest/ns/v1/globalSpecies/list/nameSearch?name=Blarina%20brevicauda&NSAccessKeyId=896948b1-49c1-49b5-9a33-51b50ec6cdac\n",
      "<?xml version=\"1.0\" encoding=\"utf-8\"?>\n",
      "\n",
      "<speciesSearchReport \n",
      "    xsi:schemaLocation=\"http://services.natureserve.org/docs/schemas/biodiversityDataFlow/1 http://services.natureserve.org/docs/schemas/biodiversityDataFlow/1/\" \n",
      "    xmlns=\"http://services.natureserve.org/docs/schemas/biodiversityDataFlow/1\" \n",
      "    xmlns:xsi=\"http://www.w3.org/2001/XMLSchema-instance\" \n",
      "    schemaVersion=\"1.1\">\n",
      "\t<conditions>\n",
      "\t\t<match>\n",
      "\t\t\t<searchTerm>Blarina brevicauda</searchTerm>\n",
      "\t\t</match>\n",
      "\t</conditions>\n",
      "\t<speciesSearchResultList>\n",
      "    \t<speciesSearchResult uid=\"ELEMENT_GLOBAL.2.104671\">\n",
      "\t   <globalSpeciesUid>ELEMENT_GLOBAL.2.104671</globalSpeciesUid>\n",
      "\t   <natureServeExplorerURI>http://explorer.natureserve.org/servlet/NatureServe?searchSpeciesUid=ELEMENT_GLOBAL.2.104671</natureServeExplorerURI>\n",
      "\t   \t   <jurisdictionScientificName>Blarina brevicauda</jurisdictionScientificName>\n",
      "\t   <commonName language=\"en\">Northern Short-tailed Shrew</commonName>\t   <taxonomicComments>&lt;i&gt;Blarina carolinensis&lt;/i&gt; formerly was regarded as conspecific with &lt;i&gt;B. brevicauda&lt;/i&gt;; it was regarded as a distinct species by Jones et al. (1992) and Hutterer (in Wilson and Reeder 1993, 2005).</taxonomicComments>\t   \t</speciesSearchResult>\n",
      "  </speciesSearchResultList>\n",
      "</speciesSearchReport>\n"
     ]
    }
   ],
   "source": [
    "s_xml = ns_get_id('Blarina brevicauda')"
   ]
  },
  {
   "cell_type": "markdown",
   "metadata": {},
   "source": [
    "Bad : https://services.natureserve.org/idd/rest/ns/v1/globalSpecies/list/nameSearch?name=Blarina%20brevicauda&NSAccessKeyId=96948b1-49c1-49b5-9a33-51b50ec6cdac\n",
    "Good: https://services.natureserve.org/idd/rest/ns/v1/globalSpecies/list/nameSearch?name=Blarina%20brevicauda&NSAccessKeyId=896948b1-49c1-49b5-9a33-51b50ec6cdac"
   ]
  },
  {
   "cell_type": "code",
   "execution_count": 55,
   "metadata": {},
   "outputs": [
    {
     "data": {
      "text/plain": [
       "'<?xml version=\"1.0\" encoding=\"utf-8\"?>\\r\\n\\r\\n<speciesSearchReport \\r\\n    xsi:schemaLocation=\"http://services.natureserve.org/docs/schemas/biodiversityDataFlow/1 http://services.natureserve.org/docs/schemas/biodiversityDataFlow/1/\" \\r\\n    xmlns=\"http://services.natureserve.org/docs/schemas/biodiversityDataFlow/1\" \\r\\n    xmlns:xsi=\"http://www.w3.org/2001/XMLSchema-instance\" \\r\\n    schemaVersion=\"1.1\">\\r\\n\\t<conditions>\\r\\n\\t\\t<match>\\r\\n\\t\\t\\t<searchTerm>Blarina brevicauda</searchTerm>\\r\\n\\t\\t</match>\\r\\n\\t</conditions>\\r\\n\\t<speciesSearchResultList>\\r\\n    \\t<speciesSearchResult uid=\"ELEMENT_GLOBAL.2.104671\">\\r\\n\\t   <globalSpeciesUid>ELEMENT_GLOBAL.2.104671</globalSpeciesUid>\\r\\n\\t   <natureServeExplorerURI>http://explorer.natureserve.org/servlet/NatureServe?searchSpeciesUid=ELEMENT_GLOBAL.2.104671</natureServeExplorerURI>\\r\\n\\t   \\t   <jurisdictionScientificName>Blarina brevicauda</jurisdictionScientificName>\\r\\n\\t   <commonName language=\"en\">Northern Short-tailed Shrew</commonName>\\t   <taxonomicComments>&lt;i&gt;Blarina carolinensis&lt;/i&gt; formerly was regarded as conspecific with &lt;i&gt;B. brevicauda&lt;/i&gt;; it was regarded as a distinct species by Jones et al. (1992) and Hutterer (in Wilson and Reeder 1993, 2005).</taxonomicComments>\\t   \\t</speciesSearchResult>\\r\\n  </speciesSearchResultList>\\r\\n</speciesSearchReport>'"
      ]
     },
     "execution_count": 55,
     "metadata": {},
     "output_type": "execute_result"
    }
   ],
   "source": [
    "s_xml"
   ]
  },
  {
   "cell_type": "code",
   "execution_count": 57,
   "metadata": {},
   "outputs": [],
   "source": [
    "s_obj = untangle.parse(s_xml)"
   ]
  },
  {
   "cell_type": "code",
   "execution_count": 58,
   "metadata": {},
   "outputs": [
    {
     "data": {
      "text/plain": [
       "['speciesSearchReport']"
      ]
     },
     "execution_count": 58,
     "metadata": {},
     "output_type": "execute_result"
    }
   ],
   "source": [
    "dir(s_obj)"
   ]
  },
  {
   "cell_type": "code",
   "execution_count": 62,
   "metadata": {},
   "outputs": [
    {
     "data": {
      "text/plain": [
       "['conditions', 'speciesSearchResultList']"
      ]
     },
     "execution_count": 62,
     "metadata": {},
     "output_type": "execute_result"
    }
   ],
   "source": [
    "dir(s_obj.speciesSearchReport)"
   ]
  },
  {
   "cell_type": "code",
   "execution_count": 64,
   "metadata": {},
   "outputs": [
    {
     "data": {
      "text/plain": [
       "['commonName',\n",
       " 'globalSpeciesUid',\n",
       " 'jurisdictionScientificName',\n",
       " 'natureServeExplorerURI',\n",
       " 'taxonomicComments']"
      ]
     },
     "execution_count": 64,
     "metadata": {},
     "output_type": "execute_result"
    }
   ],
   "source": [
    "dir(s_obj.speciesSearchReport.speciesSearchResultList.speciesSearchResult)"
   ]
  },
  {
   "cell_type": "code",
   "execution_count": 66,
   "metadata": {},
   "outputs": [
    {
     "data": {
      "text/plain": [
       "'ELEMENT_GLOBAL.2.104671'"
      ]
     },
     "execution_count": 66,
     "metadata": {},
     "output_type": "execute_result"
    }
   ],
   "source": [
    "getattr(s_obj.speciesSearchReport.speciesSearchResultList.speciesSearchResult, 'globalSpeciesUid').cdata"
   ]
  },
  {
   "cell_type": "code",
   "execution_count": 69,
   "metadata": {},
   "outputs": [
    {
     "name": "stdout",
     "output_type": "stream",
     "text": [
      "ELEMENT_GLOBAL.2.104671\n"
     ]
    }
   ],
   "source": [
    "ns_id = getattr(s_obj.speciesSearchReport.speciesSearchResultList.speciesSearchResult, 'globalSpeciesUid').cdata\n",
    "print(ns_id)"
   ]
  },
  {
   "cell_type": "markdown",
   "metadata": {},
   "source": [
    "That get the lookup for the next query : http://services.natureserve.org/BrowseServices/getSpeciesData/getSpeciesREST.jsp"
   ]
  },
  {
   "cell_type": "markdown",
   "metadata": {},
   "source": [
    "Model URL \n",
    "https://services.natureserve.org/idd/rest/ns/v1.1/globalSpecies/comprehensive?uid=ELEMENT_GLOBAL.2.100925&NSAccessKeyId=72ddf45a-c751-44c7-9bca-8db3b4513347\n"
   ]
  },
  {
   "cell_type": "code",
   "execution_count": 78,
   "metadata": {},
   "outputs": [],
   "source": [
    "def get_ns_info_from_id(ns_id):\n",
    "    # natureserve query\n",
    "    infoq = \"https://services.natureserve.org/idd/rest/ns/v1.1/globalSpecies/comprehensive?uid=\" + ns_id + \"&NSAccessKeyId=\" + nskey\n",
    "    print(infoq)\n",
    "    r = requests.get(infoq)\n",
    "    #print(r.text)\n",
    "    #return r.content\n",
    "\n",
    "    #string-a-fy that for untangle\n",
    "    #return io.BytesIO(r.content)\n",
    "    #this one isn't byte content\n",
    "    return r.text"
   ]
  },
  {
   "cell_type": "code",
   "execution_count": 79,
   "metadata": {},
   "outputs": [
    {
     "name": "stdout",
     "output_type": "stream",
     "text": [
      "https://services.natureserve.org/idd/rest/ns/v1.1/globalSpecies/comprehensive?uid=ELEMENT_GLOBAL.2.104671&NSAccessKeyId=896948b1-49c1-49b5-9a33-51b50ec6cdac\n"
     ]
    }
   ],
   "source": [
    "ns_full = get_ns_info_from_id(ns_id)"
   ]
  },
  {
   "cell_type": "code",
   "execution_count": 80,
   "metadata": {},
   "outputs": [],
   "source": [
    "full_obj = untangle.parse(ns_full)"
   ]
  },
  {
   "cell_type": "code",
   "execution_count": 83,
   "metadata": {},
   "outputs": [
    {
     "data": {
      "text/plain": [
       "['classification',\n",
       " 'conservationStatus',\n",
       " 'distribution',\n",
       " 'ecologyAndLifeHistory',\n",
       " 'license',\n",
       " 'natureServeExplorerURI',\n",
       " 'populationOccurrence',\n",
       " 'references']"
      ]
     },
     "execution_count": 83,
     "metadata": {},
     "output_type": "execute_result"
    }
   ],
   "source": [
    "dir(full_obj.globalSpeciesList.globalSpecies)"
   ]
  },
  {
   "cell_type": "code",
   "execution_count": 112,
   "metadata": {},
   "outputs": [
    {
     "data": {
      "text/plain": [
       "'Northern Short-tailed Shrew'"
      ]
     },
     "execution_count": 112,
     "metadata": {},
     "output_type": "execute_result"
    }
   ],
   "source": [
    "full_obj.globalSpeciesList.globalSpecies.classification.names.natureServePrimaryGlobalCommonName.cdata"
   ]
  },
  {
   "cell_type": "code",
   "execution_count": 105,
   "metadata": {},
   "outputs": [
    {
     "data": {
      "text/plain": [
       "'LC - Least concern'"
      ]
     },
     "execution_count": 105,
     "metadata": {},
     "output_type": "execute_result"
    }
   ],
   "source": [
    "full_obj.globalSpeciesList.globalSpecies.conservationStatus.otherStatuses.status.statusDescription.cdata"
   ]
  },
  {
   "cell_type": "code",
   "execution_count": 106,
   "metadata": {},
   "outputs": [
    {
     "data": {
      "text/plain": [
       "'Occurs throughout most of U.S. and southern Canada east of the Great Plains. See French (1981) for information on distribution in the southeastern U.S.'"
      ]
     },
     "execution_count": 106,
     "metadata": {},
     "output_type": "execute_result"
    }
   ],
   "source": [
    "full_obj.globalSpeciesList.globalSpecies.distribution.globalRange.comments.cdata"
   ]
  },
  {
   "cell_type": "code",
   "execution_count": 107,
   "metadata": {},
   "outputs": [
    {
     "data": {
      "text/plain": [
       "'http://explorer.natureserve.org/imagerepository/GetImage?SRC=6&BATCH=49&FMT=gif&RES=600X615&NAME=blarina_brevicauda'"
      ]
     },
     "execution_count": 107,
     "metadata": {},
     "output_type": "execute_result"
    }
   ],
   "source": [
    "full_obj.globalSpeciesList.globalSpecies.distribution.rangeMap.rangeMapURI.cdata"
   ]
  },
  {
   "cell_type": "code",
   "execution_count": 109,
   "metadata": {},
   "outputs": [
    {
     "data": {
      "text/plain": [
       "'http://explorer.natureserve.org/servlet/NatureServe?searchName=Blarina+brevicauda'"
      ]
     },
     "execution_count": 109,
     "metadata": {},
     "output_type": "execute_result"
    }
   ],
   "source": [
    "full_obj.globalSpeciesList.globalSpecies.natureServeExplorerURI.cdata"
   ]
  },
  {
   "cell_type": "code",
   "execution_count": 110,
   "metadata": {},
   "outputs": [
    {
     "data": {
      "text/plain": [
       "Element(name = license, attributes = {}, cdata = \n",
       "        All usage of this data must abide by NatureServes data usage license which can be found at: http://services.natureserve.org/about/license.jsp.\n",
       "    )"
      ]
     },
     "execution_count": 110,
     "metadata": {},
     "output_type": "execute_result"
    }
   ],
   "source": [
    "full_obj.globalSpeciesList.globalSpecies.license"
   ]
  },
  {
   "cell_type": "markdown",
   "metadata": {},
   "source": [
    "## REQUIRED CREDIT \n",
    "\n",
    " If data download is requested directly from our web services the citation should be:\n",
    "\n",
    "    Citation: Natureserve. 2019. NatureServe Web Service. Arlington, VA. U.S.A. Available http://services.natureserve.org. (Accessed: <date>)\n",
    "\n"
   ]
  },
  {
   "cell_type": "markdown",
   "metadata": {},
   "source": [
    "## just get the image url or no data \n"
   ]
  },
  {
   "cell_type": "code",
   "execution_count": 135,
   "metadata": {},
   "outputs": [],
   "source": [
    "def ns_get_image(taxa):\n",
    "    img_dic = {\n",
    "        \"URI\": \"NODATA\",\n",
    "        \"RightsHolder\": \"NODATA\",\n",
    "        \"PermissionEmail\": \"NODATA\"\n",
    "    }\n",
    "    # return image url if it exists, otherwise, return \"NODATA\" \n",
    "    print(taxa)\n",
    "    # natureserve query\n",
    "    nsq = \"https://services.natureserve.org/idd/rest/ns/v1/globalSpecies/images?scientificName=\" + taxa.replace(\" \", \"%20\") +  \"&resolution=thumbnail\";\n",
    "    print(nsq)                                     \n",
    "    r = requests.get(nsq)                          \n",
    "    #string-a-fy that for untangle                 \n",
    "    #return io.BytesIO(r.content)\n",
    "    img_xml = r.text\n",
    "    img_obj = untangle.parse(img_xml)\n",
    "    if hasattr(img_obj.images, 'image'):\n",
    "        img_dic[\"URI\"] = img_obj.images.image.dc_identifier.cdata\n",
    "        img_dic[\"RightsHolder\"] = img_obj.images.image.dc_rightsHolder[0].cdata\n",
    "        img_dic[\"PermissionEmail\"] = img_obj.images.image.imagePermission.email.cdata\n",
    "     \n",
    "    return img_dic\n"
   ]
  },
  {
   "cell_type": "code",
   "execution_count": 137,
   "metadata": {},
   "outputs": [
    {
     "name": "stdout",
     "output_type": "stream",
     "text": [
      "Glaucomys volans\n",
      "https://services.natureserve.org/idd/rest/ns/v1/globalSpecies/images?scientificName=Glaucomys%20volans&resolution=thumbnail\n",
      "{'URI': 'http://explorer.natureserve.org/imagerepository/GetImage?SRC=2&BATCH=10&FMT=jpg&RES=192X128&NAME=sfsquirrel1', 'RightsHolder': 'Larry Master', 'PermissionEmail': 'larry_master@natureserve.org'}\n"
     ]
    }
   ],
   "source": [
    "sq_img = ns_get_image('Glaucomys volans')\n",
    "print(sq_img)"
   ]
  },
  {
   "cell_type": "code",
   "execution_count": 138,
   "metadata": {},
   "outputs": [
    {
     "name": "stdout",
     "output_type": "stream",
     "text": [
      "Blarina brevicauda\n",
      "https://services.natureserve.org/idd/rest/ns/v1/globalSpecies/images?scientificName=Blarina%20brevicauda&resolution=thumbnail\n"
     ]
    },
    {
     "data": {
      "text/plain": [
       "{'PermissionEmail': 'NODATA', 'RightsHolder': 'NODATA', 'URI': 'NODATA'}"
      ]
     },
     "execution_count": 138,
     "metadata": {},
     "output_type": "execute_result"
    }
   ],
   "source": [
    "ns_get_image('Blarina brevicauda')"
   ]
  },
  {
   "cell_type": "code",
   "execution_count": 178,
   "metadata": {},
   "outputs": [],
   "source": [
    "def get_ns_info_from_id(ns_id, ns_key):           \n",
    "    # natureserve query                           \n",
    "    sp_data = {\n",
    "        \"CommonName\": \"NODATA\",\n",
    "        \"RedList\": \"NODATA\",\n",
    "        \"DistComment\": \"NODATA\",\n",
    "        \"RangeMapURI\": \"NODATA\",\n",
    "        \"NatureServePage\": \"NODATA\" \n",
    "    }\n",
    "    sp_namespace = {\n",
    "        \"CommonName\": \"globalSpeciesList.globalSpecies.classification.names.natureServePrimaryGlobalCommonName\",\n",
    "        \"RedList\": \"globalSpeciesList.globalSpecies.conservationStatus.otherStatuses.status.statusDescription\",\n",
    "        \"DistComment\": \"globalSpeciesList.globalSpecies.distribution.globalRange.comments\",\n",
    "        \"RangeMapURI\": \"globalSpeciesList.globalSpecies.distribution.rangeMap.rangeMapURI\",\n",
    "        \"NatureServePage\": \"globalSpeciesList.globalSpecies.natureServeExplorerURI\"\n",
    "    }\n",
    "    \n",
    "    infoq = \"https://services.natureserve.org/idd/rest/ns/v1.1/globalSpecies/comprehensive?uid=\" + ns_id + \"&NSAccessKeyId=\" + nskey\n",
    "    r = requests.get(infoq)\n",
    "    sp_obj = untangle.parse(r.text)\n",
    "    # sp_data[\"CommonName\"] = sp_obj.globalSpeciesList.globalSpecies.classification.names.natureServePrimaryGlobalCommonName.cdata\n",
    "    for key in sp_namespace.keys():\n",
    "        valpath = eval(\"sp_obj.\" + sp_namespace[key])\n",
    "        #print(valpath)\n",
    "        if hasattr(valpath, \"cdata\"):\n",
    "            #print(getattr(valpath, \"cdata\"))\n",
    "            sp_data[key] = getattr(valpath, \"cdata\")\n",
    "    \n",
    "    print(sp_data)"
   ]
  },
  {
   "cell_type": "code",
   "execution_count": 269,
   "metadata": {},
   "outputs": [],
   "source": [
    "# 2. return dict with species metadata for the mapper UI \n",
    "def get_ns_info_from_id(ns_id, ns_api_key):    \n",
    "    # attributes we want\n",
    "    sp_data = { \n",
    "        \"CommonName\": \"NODATA\",\n",
    "        \"RedList\": \"NODATA\",\n",
    "        \"DistComment\": \"NODATA\",\n",
    "        # let's skip the range map url for now \n",
    "        \"RangeMapURI\": \"NODATA\",\n",
    "        \"NatureServePage\": \"NODATA\" \n",
    "    }   \n",
    "    # where to find the attributes in the response \n",
    "    sp_namespace = { \n",
    "        \"CommonName\": \"globalSpeciesList.globalSpecies.classification.names.natureServePrimaryGlobalCommonName\",\n",
    "        \"RedList\": \"globalSpeciesList.globalSpecies.conservationStatus.otherStatuses.status.statusDescription\",\n",
    "        \"DistComment\": \"globalSpeciesList.globalSpecies.distribution.globalRange.comments\",\n",
    "        \"RangeMapURI\": \"globalSpeciesList.globalSpecies.distribution.rangeMap.rangeMapURI\",\n",
    "        \"NatureServePage\": \"globalSpeciesList.globalSpecies.natureServeExplorerURI\"\n",
    "    }   \n",
    "    # local function to drill through response to make sure it's valid \n",
    "    def check_valid_namespace(obj, namespace):\n",
    "        drill = \"\"\n",
    "        for space in namespace.split(\".\"):\n",
    "            drill = drill + space  \n",
    "            print(drill)\n",
    "            tocheck = eval(obj + \".\" + drill)\n",
    "            print(\"check\" + tocheck)\n",
    "            if hasattr(tocheck, \"cdata\"):\n",
    "                print(\"found \" + tocheck)\n",
    "            else:\n",
    "                print(tocheck + \" not found\")\n",
    "            #drill = drill + \".\"\n",
    "        \n",
    "    infoq = \"https://services.natureserve.org/idd/rest/ns/v1.1/globalSpecies/comprehensive?uid=\" + ns_id + \"&NSAccessKeyId=\" + ns_api_key\n",
    "    r = requests.get(infoq)\n",
    "    sp_obj = untangle.parse(r.text)\n",
    "    # sp_data[\"CommonName\"] = sp_obj.globalSpeciesList.globalSpecies.classification.names.natureServePrimaryGlobalCommonName.cdata\n",
    "\n",
    "    # go through the attribues we want to grab \n",
    "    for key in sp_namespace.keys():\n",
    "        # check that this namespace exists \n",
    "        # see https://hynek.me/articles/hasattr/\n",
    "        try: \n",
    "            valpath = eval(\"sp_obj.\" + sp_namespace[key])\n",
    "            getattr(valpath, \"cdata\")\n",
    "            print(getattr(valpath, \"cdata\"))\n",
    "            sp_data[key] = getattr(valpath, \"cdata\")      \n",
    "        except AttributeError: \n",
    "            pass\n",
    "        \n",
    "    #return sp_data\n",
    "    print(sp_data)\n"
   ]
  },
  {
   "cell_type": "code",
   "execution_count": 271,
   "metadata": {},
   "outputs": [
    {
     "name": "stdout",
     "output_type": "stream",
     "text": [
      "Northern Short-tailed Shrew\n",
      "LC - Least concern\n",
      "Occurs throughout most of U.S. and southern Canada east of the Great Plains. See French (1981) for information on distribution in the southeastern U.S.\n",
      "http://explorer.natureserve.org/imagerepository/GetImage?SRC=6&BATCH=49&FMT=gif&RES=600X615&NAME=blarina_brevicauda\n",
      "http://explorer.natureserve.org/servlet/NatureServe?searchName=Blarina+brevicauda\n",
      "{'CommonName': 'Northern Short-tailed Shrew', 'RedList': 'LC - Least concern', 'DistComment': 'Occurs throughout most of U.S. and southern Canada east of the Great Plains. See French (1981) for information on distribution in the southeastern U.S.', 'RangeMapURI': 'http://explorer.natureserve.org/imagerepository/GetImage?SRC=6&BATCH=49&FMT=gif&RES=600X615&NAME=blarina_brevicauda', 'NatureServePage': 'http://explorer.natureserve.org/servlet/NatureServe?searchName=Blarina+brevicauda'}\n"
     ]
    }
   ],
   "source": [
    "# known good response\n",
    "ns_key = '896948b1-49c1-49b5-9a33-51b50ec6cdac'\n",
    "get_ns_info_from_id('ELEMENT_GLOBAL.2.104671', ns_key)"
   ]
  },
  {
   "cell_type": "code",
   "execution_count": 270,
   "metadata": {},
   "outputs": [
    {
     "name": "stdout",
     "output_type": "stream",
     "text": [
      "Southern Short-tailed Shrew\n",
      "LC - Least concern\n",
      "Current known distribution is from Virginia to southern Illinois, southward to eastern Texas (Baumgardner et al. 1992) and southern Florida (McCay 2001)..\n",
      "http://explorer.natureserve.org/servlet/NatureServe?searchName=Blarina+carolinensis\n",
      "{'CommonName': 'Southern Short-tailed Shrew', 'RedList': 'LC - Least concern', 'DistComment': 'Current known distribution is from Virginia to southern Illinois, southward to eastern Texas (Baumgardner et al. 1992) and southern Florida (McCay 2001)..', 'RangeMapURI': 'NODATA', 'NatureServePage': 'http://explorer.natureserve.org/servlet/NatureServe?searchName=Blarina+carolinensis'}\n"
     ]
    }
   ],
   "source": [
    "# known response missing some data\n",
    "get_ns_info_from_id('ELEMENT_GLOBAL.2.902827', ns_key)"
   ]
  },
  {
   "cell_type": "code",
   "execution_count": 184,
   "metadata": {},
   "outputs": [
    {
     "data": {
      "text/plain": [
       "['globalSpeciesList',\n",
       " 'globalSpecies',\n",
       " 'distribution',\n",
       " 'globalRange',\n",
       " 'comments']"
      ]
     },
     "execution_count": 184,
     "metadata": {},
     "output_type": "execute_result"
    }
   ],
   "source": [
    "# test exploring the depth of the namespace for validity\n",
    "sp_namespace['DistComment'].split(\".\")\n"
   ]
  },
  {
   "cell_type": "code",
   "execution_count": 189,
   "metadata": {},
   "outputs": [
    {
     "name": "stdout",
     "output_type": "stream",
     "text": [
      "check globalSpeciesList\n",
      "check globalSpeciesList.globalSpecies\n",
      "check globalSpeciesList.globalSpecies.distribution\n",
      "check globalSpeciesList.globalSpecies.distribution.globalRange\n",
      "check globalSpeciesList.globalSpecies.distribution.globalRange.comments\n"
     ]
    }
   ],
   "source": [
    "drill = \"\"\n",
    "for namespace in sp_namespace['DistComment'].split(\".\"): \n",
    "    drill = drill + namespace  \n",
    "    print(\"check \" + drill)\n",
    "    drill = drill + \".\""
   ]
  },
  {
   "cell_type": "code",
   "execution_count": 273,
   "metadata": {},
   "outputs": [],
   "source": [
    "# cat dictionaries \n",
    "ns_info_dict = {'CommonName': 'Northern Short-tailed Shrew', 'RedList': 'LC - Least concern', 'DistComment': 'Occurs throughout most of U.S. and southern Canada east of the Great Plains. See French (1981) for information on distribution in the southeastern U.S.', 'RangeMapURI': 'http://explorer.natureserve.org/imagerepository/GetImage?SRC=6&BATCH=49&FMT=gif&RES=600X615&NAME=blarina_brevicauda', 'NatureServePage': 'http://explorer.natureserve.org/servlet/NatureServe?searchName=Blarina+brevicauda'}\n",
    "ns_image_dict = {'URI': 'http://explorer.natureserve.org/imagerepository/GetImage?SRC=2&BATCH=10&FMT=jpg&RES=192X128&NAME=sfsquirrel1', 'RightsHolder': 'Larry Master', 'PermissionEmail': 'larry_master@natureserve.org'}"
   ]
  },
  {
   "cell_type": "code",
   "execution_count": 279,
   "metadata": {},
   "outputs": [
    {
     "name": "stdout",
     "output_type": "stream",
     "text": [
      "{'CommonName': 'Northern Short-tailed Shrew', 'RedList': 'LC - Least concern', 'DistComment': 'Occurs throughout most of U.S. and southern Canada east of the Great Plains. See French (1981) for information on distribution in the southeastern U.S.', 'RangeMapURI': 'http://explorer.natureserve.org/imagerepository/GetImage?SRC=6&BATCH=49&FMT=gif&RES=600X615&NAME=blarina_brevicauda', 'NatureServePage': 'http://explorer.natureserve.org/servlet/NatureServe?searchName=Blarina+brevicauda', 'URI': 'http://explorer.natureserve.org/imagerepository/GetImage?SRC=2&BATCH=10&FMT=jpg&RES=192X128&NAME=sfsquirrel1', 'RightsHolder': 'Larry Master', 'PermissionEmail': 'larry_master@natureserve.org'}\n"
     ]
    }
   ],
   "source": [
    "cat_dict = {**ns_info_dict, **ns_image_dict}\n",
    "print(cat_dict)"
   ]
  },
  {
   "cell_type": "markdown",
   "metadata": {},
   "source": [
    "## DEBUGGING bad rest calls\n",
    "https://services.natureserve.org/idd/rest/ns/v1/globalSpecies/list/nameSearch?name=Spermophilus%20tridecemlineatus&NSAccessKeyId=896948b1-49c1-49b5-9a33-51b50ec6cdac\n",
    "\n",
    "    get Spermophilus tridecemlineatus\n",
    "    Traceback (most recent call last):\n",
    "      File \"parse_rest.py\", line 111, in <module>\n",
    "        ns_id = get_ns_id(taxa, ns_api_key)\n",
    "      File \"parse_rest.py\", line 29, in get_ns_id\n",
    "        id_str = getattr(id_obj.speciesSearchReport.speciesSearchResultList.speciesSearchResult, 'globalSpeciesUid').cdata\n",
    "    AttributeError: 'list' object has no attribute 'globalSpeciesUid'"
   ]
  },
  {
   "cell_type": "code",
   "execution_count": 17,
   "metadata": {},
   "outputs": [],
   "source": [
    "import csv \n",
    "import urllib.parse \n",
    "import requests\n",
    "#import xml.etree.ElementTree as ET\n",
    "import untangle \n",
    "\n",
    "ns_api_key = '896948b1-49c1-49b5-9a33-51b50ec6cdac'\n",
    "\n",
    "#\n",
    "# getting info from Natureserve api by taxa: \n",
    "# 1. query ID service to get animal id \n",
    "# 2. use this ID to query main info service to get metadata \n",
    "# 3. use taxa name again to query for an image url \n",
    "\n",
    "\n",
    "# 1. Return Natureserve ID based on species name \n",
    "def get_ns_id(taxa, ns_api_key):\n",
    "    # natureserve query\n",
    "    idq = \"https://services.natureserve.org/idd/rest/ns/v1/globalSpecies/list/nameSearch?name=\" + taxa.replace(\" \", \"%20\") + \"&NSAccessKeyId=\" + ns_api_key\n",
    "    r = requests.get(idq)\n",
    "    id_xml = r.text\n",
    "    #print(id_xml)\n",
    "    id_obj = untangle.parse(id_xml)\n",
    "    #sometimes speciesSearchResult is a value, sometimes it is an list, so in those exceptions, get [0] element\n",
    "    try:\n",
    "        id_str = getattr(id_obj.speciesSearchReport.speciesSearchResultList.speciesSearchResult, 'globalSpeciesUid').cdata\n",
    "    except:\n",
    "        id_str = getattr(id_obj.speciesSearchReport.speciesSearchResultList.speciesSearchResult[0], 'globalSpeciesUid').cdata\n",
    "\n",
    "    #print(id_str)\n",
    "    return id_str\n",
    "\n"
   ]
  },
  {
   "cell_type": "code",
   "execution_count": 18,
   "metadata": {},
   "outputs": [
    {
     "data": {
      "text/plain": [
       "'ELEMENT_GLOBAL.2.103809'"
      ]
     },
     "execution_count": 18,
     "metadata": {},
     "output_type": "execute_result"
    }
   ],
   "source": [
    "get_ns_id('Sorex trowbridgii', ns_api_key)"
   ]
  },
  {
   "cell_type": "code",
   "execution_count": 19,
   "metadata": {},
   "outputs": [
    {
     "data": {
      "text/plain": [
       "'ELEMENT_GLOBAL.2.100397'"
      ]
     },
     "execution_count": 19,
     "metadata": {},
     "output_type": "execute_result"
    }
   ],
   "source": [
    "get_ns_id('Spermophilus tridecemlineatus', ns_api_key)"
   ]
  },
  {
   "cell_type": "markdown",
   "metadata": {},
   "source": [
    "## DEBUG json export "
   ]
  },
  {
   "cell_type": "code",
   "execution_count": 18,
   "metadata": {},
   "outputs": [],
   "source": [
    "import csv \n",
    "import json\n",
    "\n",
    "csvfile = open('./pbgjam_layers.csv', 'r')\n",
    "jsonfile = open('pbgjam_layers.json', 'w')\n",
    "\n",
    "fieldnames = (\"taxa\",\"taxagroup\",\"current\",\"rcp45_40\",\"rcp45_70\",\"rcp85_40\",\"rcp85_70\",\"CommonName\",\"RedList\",\"DistComment\",\"RangeMapURI\",\"NatureServePage\",\"retrieved\",\"URI\",\"RightsHolder\",\"PermissionEmail\")\n",
    "reader = csv.DictReader( csvfile, fieldnames)\n",
    "\n",
    "for row in reader:\n",
    "    k = row.pop(\"taxa\")\n",
    "    thisdict= {k: row}\n",
    "    #print(thisdict)\n",
    "\n",
    "\n",
    "#for row in reader:\n",
    "#   \n",
    "#    json.dump(row, jsonfile)\n",
    "#   jsonfile.write('\\n')"
   ]
  },
  {
   "cell_type": "code",
   "execution_count": null,
   "metadata": {},
   "outputs": [],
   "source": []
  }
 ],
 "metadata": {
  "kernelspec": {
   "display_name": "Python 3",
   "language": "python",
   "name": "python3"
  },
  "language_info": {
   "codemirror_mode": {
    "name": "ipython",
    "version": 3
   },
   "file_extension": ".py",
   "mimetype": "text/x-python",
   "name": "python",
   "nbconvert_exporter": "python",
   "pygments_lexer": "ipython3",
   "version": "3.6.8"
  }
 },
 "nbformat": 4,
 "nbformat_minor": 2
}
